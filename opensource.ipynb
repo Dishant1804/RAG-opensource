{
 "cells": [
  {
   "cell_type": "code",
   "execution_count": 17,
   "metadata": {},
   "outputs": [],
   "source": [
    "MODEL = \"gemma2\"\n",
    "EMBEDDING_MODEL = \"nomic-embed-text\""
   ]
  },
  {
   "cell_type": "code",
   "execution_count": 18,
   "metadata": {},
   "outputs": [],
   "source": [
    "from  langchain_ollama.chat_models import ChatOllama\n",
    "from langchain_ollama.embeddings import OllamaEmbeddings"
   ]
  },
  {
   "cell_type": "code",
   "execution_count": 19,
   "metadata": {},
   "outputs": [],
   "source": [
    "model = ChatOllama(\n",
    "  model=MODEL,\n",
    "  temperature=0\n",
    ") \n",
    "\n",
    "embeddings = OllamaEmbeddings(model=EMBEDDING_MODEL)"
   ]
  },
  {
   "cell_type": "code",
   "execution_count": 20,
   "metadata": {},
   "outputs": [],
   "source": [
    "from langchain_core.output_parsers import StrOutputParser\n",
    "\n",
    "parser = StrOutputParser()\n",
    "\n",
    "chain = model | parser\n",
    "# chain.invoke(\"what is the solar system?\")"
   ]
  },
  {
   "cell_type": "code",
   "execution_count": 21,
   "metadata": {},
   "outputs": [],
   "source": [
    "from langchain_community.document_loaders import PyPDFLoader\n",
    "\n",
    "loader = PyPDFLoader(\"2008_Mumbai_attacks.pdf\")\n",
    "pages = loader.load_and_split()\n",
    "# pages"
   ]
  },
  {
   "cell_type": "code",
   "execution_count": 22,
   "metadata": {},
   "outputs": [
    {
     "data": {
      "text/plain": [
       "'\\nAnswer the question based on the context below. If you can\\'t \\nanswer the question, reply \"I don\\'t know\".\\n\\nContext: Here is some context\\n\\nQuestion: Here is a question\\n'"
      ]
     },
     "execution_count": 22,
     "metadata": {},
     "output_type": "execute_result"
    }
   ],
   "source": [
    "from langchain.prompts import PromptTemplate\n",
    "\n",
    "template = \"\"\"\n",
    "Answer the question based on the context below. If you can't \n",
    "answer the question, reply \"I don't know\".\n",
    "\n",
    "Context: {context}\n",
    "\n",
    "Question: {question}\n",
    "\"\"\"\n",
    "\n",
    "prompt = PromptTemplate.from_template(template)\n",
    "prompt.format(context=\"Here is some context\", question=\"Here is a question\")"
   ]
  },
  {
   "cell_type": "code",
   "execution_count": 7,
   "metadata": {},
   "outputs": [],
   "source": [
    "chain = prompt | model | parser"
   ]
  },
  {
   "cell_type": "code",
   "execution_count": 8,
   "metadata": {},
   "outputs": [
    {
     "data": {
      "text/plain": [
       "'Surat, Gujarat, India \\n'"
      ]
     },
     "execution_count": 8,
     "metadata": {},
     "output_type": "execute_result"
    }
   ],
   "source": [
    "chain.invoke({\n",
    "  \"context\": \"I was given name dishant miyani and i was born in surat gujarat india\",\n",
    "  \"question\": \"where was dishant born?\"\n",
    "})"
   ]
  },
  {
   "cell_type": "code",
   "execution_count": 9,
   "metadata": {},
   "outputs": [
    {
     "name": "stderr",
     "output_type": "stream",
     "text": [
      "/home/dishant/programs/RAG/.venv/lib/python3.10/site-packages/pydantic/_migration.py:283: UserWarning: `pydantic.error_wrappers:ValidationError` has been moved to `pydantic:ValidationError`.\n",
      "  warnings.warn(f'`{import_path}` has been moved to `{new_location}`.')\n"
     ]
    }
   ],
   "source": [
    "from langchain.vectorstores import DocArrayInMemorySearch\n",
    "\n",
    "vector_store = DocArrayInMemorySearch.from_documents(\n",
    "  pages,\n",
    "  embedding=embeddings\n",
    ")"
   ]
  },
  {
   "cell_type": "code",
   "execution_count": 14,
   "metadata": {},
   "outputs": [
    {
     "data": {
      "text/plain": [
       "[Document(metadata={'source': '2008_Mumbai_attacks.pdf', 'page': 26}, page_content='center\" (http://edition.cnn.com/2008/WORLD/asiapcf/11/27/india.attacks/index.html). CNN.\\nArchived (https://web.archive.org/web/20081202132254/http://edition.cnn.com/2008/WORL\\nD/asiapcf/11/27/india.attacks/index.html) from the original on 2 December 2008. Retrieved\\n28 November 2008.'),\n",
       " Document(metadata={'source': '2008_Mumbai_attacks.pdf', 'page': 28}, page_content='CNN. 28 November 2008. Archived (https://web.archive.org/web/20081201083956/http://edi\\ntion.cnn.com/2008/WORLD/asiapcf/11/28/india.attacks/) from the original on 1 December\\n2008. Retrieved 7 March 2009.'),\n",
       " Document(metadata={'source': '2008_Mumbai_attacks.pdf', 'page': 2}, page_content='Bullet holes on the wall at the CSMT\\nA group of men said to number between 24 and 26[52] received training in marine warfare at a remote\\ncamp in mountainous Muzaffarabad in Pakistan. Part of the training was said to have taken place on the\\nMangla Dam reservoir in Pakistan.[53]\\nThe recruits went through extensive training.\\nPsychological: Indoctrination to Islamist Jihadi ideas, including imagery of atrocities suffered\\nby Muslims in India[54] and globally.\\nBasic Combat: Lashkar\\'s basic combat training and methodology course, the Daura Aam.\\nAdvanced Training: Selected to undergo advanced combat training at a camp near\\nMansehra, a course the organisation calls the Daura Khaas.[54] According to an unnamed\\nsource at the U.S. Defense Department, this includes advanced weapons and explosives\\ntraining supervised by former members of the Pakistan Army,[26] along with survival training\\nand further indoctrination.\\nCommando Training: Finally, an even smaller group was selected for specialized commando\\ntactics training, and marine navigation training was given to the Fedayeen unit that was\\nselected, in order to target Mumbai.[55]\\nFrom the recruits, 10 were handpicked for the Mumbai mission.[56] They also received training in\\nswimming and sailing, besides the use of high-end weapons and explosives under the supervision of LeT\\ncommanders. According to a media report citing an unnamed former Defence Department Official of the\\nUS, the intelligence agencies of the US had determined that former officers from Pakistan\\'s Army and\\nInter-Services Intelligence agency assisted actively and continuously in training.[26] They were given\\nblueprints of all the four targets – The Taj Mahal Palace Hotel, Oberoi Trident, Nariman House, and\\nChhatrapati Shivaji Maharaj Terminus.\\nThe terrorists first hijacked an Indian fishing boat and killed five people on board.[57] The first events\\nwere detailed around 20:00 Indian Standard Time (IST) on 26 November, when 10 men in inflatable\\nspeedboats came ashore at two locations in Colaba.[58] They reportedly told local Marathi-speaking\\nfishermen who asked them who they were to \"mind their own business\" before they split up and went in\\ntwo different ways. The fishermens\\' subsequent report to the police department received little response\\nand local police failed to act.[59]\\nThe Chhatrapati Shivaji Maharaj Terminus (CSMT) was attacked\\nby two gunmen, Ismail Khan and Ajmal Kasab.[60] Kasab was\\nlater caught alive by the police and identified by eyewitnesses.\\nThe attacks began around 21:30 when the two men entered the\\npassenger hall and opened fire[61] with AK-47 assault rifles.[62]\\nThe attackers killed 58 people and injured 104 others,[62] their\\nassault ending at about 22:45.[61] Security forces and emergency\\nservices arrived shortly afterwards. Announcements by a railway\\nannouncer, Vishnu Dattaram Zende, alerted passengers to leave\\nthe station and saved many lives.[63][64] The two gunmen fled the\\nAttacks\\nChhatrapati Shivaji Maharaj Terminus'),\n",
       " Document(metadata={'source': '2008_Mumbai_attacks.pdf', 'page': 3}, page_content='Bullet marks left at Leopold\\nCafe\\nThe damaged Oberoi Trident hotel\\nscene and fired at pedestrians and police officers in the streets, killing eight police officers. The attackers\\npassed a police station. Knowing that they were outgunned against the heavily armed terrorists, the police\\nofficers at the station, instead of confronting the terrorists, decided to switch off the lights and secure the\\ngates.\\nThe attackers then headed towards Cama Hospital with intent to kill patients,[65] but the hospital staff\\nlocked all of the patient wards. A team of the Mumbai Anti-Terrorist Squad led by police chief Hemant\\nKarkare searched the Chhatrapati Shivaji Terminus and then left in pursuit of Kasab and Khan. Kasab and\\nKhan opened fire on the vehicle in a lane next to the hospital and received return fire in response.\\nKarkare, Vijay Salaskar, Ashok Kamte and three of their officers were killed. The only survivor,\\nConstable Arun Jadhav, was severely wounded.[66] Kasab and Khan seized the police vehicle but later\\nabandoned it and seized a passenger car instead. They then ran into a police roadblock, which had been\\nset up after Jadhav radioed for help.[67] A gun battle then ensued in which Khan was killed and Kasab\\nwas wounded. After a physical struggle, Kasab was arrested.[68] A police officer, Tukaram Omble, was\\nalso killed when he tried to disarm Kasab by wrestling his weapon away from him.\\nThe Leopold Cafe, a popular restaurant and bar on Colaba Causeway in\\nSouth Mumbai, was one of the first sites to be attacked.[69] Two attackers,\\nShoaib alias Soheb and Nazir alias Abu Umer,[60] opened fire on the cafe\\non the evening of 26 November between 21:30 and 21:48, killing 10\\npeople (including some international visitors) and injuring many more.[70]\\nThere were two explosions in taxis caused by time bombs. The first one\\noccurred at 22:40 at Vile Parle, killing the driver and a passenger. The\\nsecond explosion took place at Wadi Bunder between 22:20 and 22:25.\\nThree people, including the driver of the taxi were killed, and about 15\\nothers were injured.[22][71]\\nTwo hotels, The Taj Mahal Palace\\nHotel and the Oberoi Trident, were\\namong the four locations targeted. Six explosions were reported at\\nthe Taj Hotel – one in the lobby, two in the elevators, three in the\\nrestaurant – and one at the Oberoi Trident.[72][73] At the Taj,\\nfirefighters rescued 200 hostages from windows using ladders\\nduring the first night.[74]\\nCNN initially reported on the morning of 27 November 2008 that\\nthe hostage situation at the Taj Hotel had been resolved and quoted\\nthe police chief of Maharashtra stating that all hostages were\\nfreed;[46] however, it was learned later that day that there were still two attackers holding hostages,\\nincluding foreigners, in the Taj Hotel.[75]\\nLeopold Cafe\\nBomb blasts in taxis\\nTaj Mahal Palace Hotel and Oberoi Trident')]"
      ]
     },
     "execution_count": 14,
     "metadata": {},
     "output_type": "execute_result"
    }
   ],
   "source": [
    "retriever = vector_store.as_retriever()\n",
    "\n",
    "retriever.invoke(\"which cafe was attacked?\")"
   ]
  },
  {
   "cell_type": "code",
   "execution_count": 16,
   "metadata": {},
   "outputs": [
    {
     "name": "stdout",
     "output_type": "stream",
     "text": [
      "The Leopold Cafe, a popular restaurant and bar on Colaba Causeway in South Mumbai, was one of the first sites to be attacked. Two attackers opened fire on the cafe on the evening of 26 November, killing 10 people (including some international visitors) and injuring many more.  \n",
      "\n"
     ]
    }
   ],
   "source": [
    "from operator import itemgetter\n",
    "\n",
    "chain = (\n",
    "  {\n",
    "    \"context\" : itemgetter(\"question\") | retriever,\n",
    "    \"question\" : itemgetter(\"question\")\n",
    "  }\n",
    "  | prompt\n",
    "  | model\n",
    "  | parser\n",
    ")\n",
    "\n",
    "# for response in chain.stream({ \"question\": \"what are the series of events in the attack\" }):\n",
    "#   print(response)\n",
    "print(chain.invoke({ \"question\": \"tell me about the cafe that was attacked\" }))"
   ]
  },
  {
   "cell_type": "code",
   "execution_count": null,
   "metadata": {},
   "outputs": [],
   "source": []
  }
 ],
 "metadata": {
  "kernelspec": {
   "display_name": ".venv",
   "language": "python",
   "name": "python3"
  },
  "language_info": {
   "codemirror_mode": {
    "name": "ipython",
    "version": 3
   },
   "file_extension": ".py",
   "mimetype": "text/x-python",
   "name": "python",
   "nbconvert_exporter": "python",
   "pygments_lexer": "ipython3",
   "version": "3.10.12"
  }
 },
 "nbformat": 4,
 "nbformat_minor": 2
}
